{
 "cells": [
  {
   "cell_type": "code",
   "execution_count": 2,
   "metadata": {},
   "outputs": [],
   "source": [
    "import numpy as np \n",
    "import tensorflow as tf\n",
    "import cv2\n",
    "import os\n",
    "import tqdm\n",
    "import matplotlib.pyplot as plt\n",
    "from PIL import Image \n",
    "import pickle\n",
    "\n",
    "from sklearn.model_selection import train_test_split\n",
    "\n",
    "from keras.models import Sequential\n",
    "from keras.layers import Conv2D\n",
    "from keras.layers import MaxPooling2D\n",
    "from keras.layers import Activation\n",
    "from keras.layers import Flatten\n",
    "from keras.layers import Dense\n",
    "from keras import layers\n"
   ]
  },
  {
   "cell_type": "code",
   "execution_count": 3,
   "metadata": {},
   "outputs": [],
   "source": [
    "num_classes = 2\n",
    "width = 80\n",
    "height = 80\n",
    "\n",
    "input_shape = (width, height, 1)\n",
    "\n",
    "model = Sequential()"
   ]
  },
  {
   "cell_type": "code",
   "execution_count": 4,
   "metadata": {},
   "outputs": [],
   "source": [
    "model.add(layers.Conv2D(32, (3,3), activation='relu', input_shape= input_shape))\n",
    "\n",
    "# Add a max pooling layer with a 2x2 pool size\n",
    "model.add(MaxPooling2D(pool_size=(2, 2)))\n",
    "\n",
    "# Add another convolutional layer with 64 filters and a 3x3 kernel\n",
    "model.add(Conv2D(64, (3, 3), activation='relu'))\n",
    "\n",
    "# Add another max pooling layer with a 2x2 pool size\n",
    "model.add(MaxPooling2D(pool_size=(2, 2)))\n",
    "\n",
    "# Flatten the previous layer output\n",
    "model.add(Flatten())\n",
    "\n",
    "# Add a fully connected layer with 128 neurons and 'relu' activation function\n",
    "model.add(Dense(64, activation='relu'))\n",
    "\n",
    "# Add the output layer with the number of classes and 'softmax' activation function\n",
    "model.add(Dense(num_classes, activation='softmax'))\n",
    "\n",
    "# Compile the model\n",
    "model.compile(optimizer='adam', loss='sparse_categorical_crossentropy', metrics=['accuracy'])\n"
   ]
  },
  {
   "cell_type": "code",
   "execution_count": 4,
   "metadata": {},
   "outputs": [],
   "source": [
    "# data_dir = \"C:\\\\Python programming\\\\Face Detection\\\\set2\\\\testing\"\n",
    "data_dir = \"C:\\\\Python programming\\\\Face Detection\\\\set2\\\\full Data\"\n",
    "\n"
   ]
  },
  {
   "cell_type": "code",
   "execution_count": 5,
   "metadata": {},
   "outputs": [],
   "source": [
    "\n",
    "label = []\n",
    "imggr = []\n",
    "\n",
    "for gender in os.listdir(data_dir):\n",
    "\n",
    "    gndrpath = os.path.join(data_dir, gender)\n",
    "\n",
    "    for img in os.listdir(gndrpath):\n",
    "\n",
    "        imgpath = os.path.join(gndrpath, img)\n",
    "\n",
    "        image = cv2.imread(imgpath)\n",
    "        # cv2.imshow('gray', image)\n",
    "\n",
    "        imgr = cv2.cvtColor(image, cv2.COLOR_BGR2GRAY)\n",
    "        # cv2.imshow('gray', imgr)\n",
    "\n",
    "        imgr = cv2.resize(imgr, (80, 80))\n",
    "\n",
    "        imgr = np.array(imgr)\n",
    "        imggr.append(imgr)\n",
    "        \n",
    "        if gender=='male':\n",
    "            label.append(1)\n",
    "        else:\n",
    "            label.append(0)\n",
    "\n",
    "label = np.array(label)\n",
    "f = open('C:\\\\Python programming\\\\Face Detection\\\\set2\\\\dfdemo.pickle', 'wb')\n",
    "pickle.dump({'image': imggr, 'labels': label}, f)\n",
    "f.close()\n"
   ]
  },
  {
   "cell_type": "code",
   "execution_count": 5,
   "metadata": {},
   "outputs": [
    {
     "name": "stdout",
     "output_type": "stream",
     "text": [
      "(58658, 80, 80) (58658,)\n"
     ]
    }
   ],
   "source": [
    "imgdata = pickle.load(open('C:\\\\Python programming\\\\Face Detection\\\\set2\\\\dfdemo.pickle', 'rb'))\n",
    "\n",
    "data = np.array(imgdata['image'])\n",
    "labels = np.array(imgdata['labels'])\n",
    "\n",
    "X = data\n",
    "y = labels\n",
    "\n",
    "print(X.shape, y.shape)\n",
    "# print(X)"
   ]
  },
  {
   "cell_type": "code",
   "execution_count": 6,
   "metadata": {},
   "outputs": [
    {
     "name": "stdout",
     "output_type": "stream",
     "text": [
      "Epoch 1/10\n",
      "1467/1467 [==============================] - 289s 195ms/step - loss: 0.2778 - accuracy: 0.8845 - val_loss: 0.2038 - val_accuracy: 0.9231\n",
      "Epoch 2/10\n",
      "1467/1467 [==============================] - 288s 196ms/step - loss: 0.1673 - accuracy: 0.9365 - val_loss: 0.1472 - val_accuracy: 0.9433\n",
      "Epoch 3/10\n",
      "1467/1467 [==============================] - 289s 197ms/step - loss: 0.1371 - accuracy: 0.9487 - val_loss: 0.1457 - val_accuracy: 0.9460\n",
      "Epoch 4/10\n",
      "1467/1467 [==============================] - 294s 200ms/step - loss: 0.1152 - accuracy: 0.9579 - val_loss: 0.1603 - val_accuracy: 0.9378\n",
      "Epoch 5/10\n",
      "1467/1467 [==============================] - 290s 198ms/step - loss: 0.0983 - accuracy: 0.9641 - val_loss: 0.1419 - val_accuracy: 0.9474\n",
      "Epoch 6/10\n",
      "1467/1467 [==============================] - 297s 202ms/step - loss: 0.0832 - accuracy: 0.9703 - val_loss: 0.1345 - val_accuracy: 0.9529\n",
      "Epoch 7/10\n",
      "1467/1467 [==============================] - 296s 202ms/step - loss: 0.0695 - accuracy: 0.9752 - val_loss: 0.1565 - val_accuracy: 0.9531\n",
      "Epoch 8/10\n",
      "1467/1467 [==============================] - 289s 197ms/step - loss: 0.0582 - accuracy: 0.9788 - val_loss: 0.1732 - val_accuracy: 0.9480\n",
      "Epoch 9/10\n",
      "1467/1467 [==============================] - 295s 201ms/step - loss: 0.0467 - accuracy: 0.9830 - val_loss: 0.1833 - val_accuracy: 0.9456\n",
      "Epoch 10/10\n",
      "1467/1467 [==============================] - 287s 195ms/step - loss: 0.0386 - accuracy: 0.9864 - val_loss: 0.1967 - val_accuracy: 0.9432\n"
     ]
    },
    {
     "data": {
      "text/plain": [
       "<keras.callbacks.History at 0x28e4372e6e0>"
      ]
     },
     "execution_count": 6,
     "metadata": {},
     "output_type": "execute_result"
    }
   ],
   "source": [
    "X_train, X_test, y_train, y_test = train_test_split(X, y, test_size= 0.2, shuffle=True, stratify=labels)\n",
    "\n",
    "X_train, X_test = X_train/255, X_test/255\n",
    "\n",
    "# X_train = tf.convert_to_tensor(X_train, dtype=tf.float32)\n",
    "# X_test = tf.convert_to_tensor(X_test, dtype=tf.float32)\n",
    "\n",
    "model.fit(X_train, y_train, batch_size= 32, epochs= 10, validation_data= (X_test, y_test))\n",
    "\n"
   ]
  },
  {
   "cell_type": "code",
   "execution_count": 7,
   "metadata": {},
   "outputs": [
    {
     "name": "stdout",
     "output_type": "stream",
     "text": [
      "367/367 [==============================] - 18s 49ms/step\n"
     ]
    },
    {
     "data": {
      "text/plain": [
       "array([0, 1, 1, ..., 1, 1, 1], dtype=int64)"
      ]
     },
     "execution_count": 7,
     "metadata": {},
     "output_type": "execute_result"
    }
   ],
   "source": [
    "gender_predict = model.predict(X_test)\n",
    "\n",
    "predicted_classes = gender_predict.argmax(axis=1)\n",
    "\n",
    "predicted_classes.shape\n",
    "predicted_classes"
   ]
  },
  {
   "cell_type": "code",
   "execution_count": 8,
   "metadata": {},
   "outputs": [
    {
     "name": "stdout",
     "output_type": "stream",
     "text": [
      "0.9432321854756223\n"
     ]
    }
   ],
   "source": [
    "from sklearn.metrics import accuracy_score\n",
    "\n",
    "accuracy = accuracy_score(predicted_classes, y_test)\n",
    "\n",
    "print(accuracy)"
   ]
  },
  {
   "cell_type": "code",
   "execution_count": 9,
   "metadata": {},
   "outputs": [],
   "source": [
    "ff = open('C:\\Python programming\\Face Detection\\model.p', 'wb')\n",
    "pickle.dump({'model' : model, 'labels': labels}, ff)\n",
    "ff.close()"
   ]
  }
 ],
 "metadata": {
  "kernelspec": {
   "display_name": "base",
   "language": "python",
   "name": "python3"
  },
  "language_info": {
   "codemirror_mode": {
    "name": "ipython",
    "version": 3
   },
   "file_extension": ".py",
   "mimetype": "text/x-python",
   "name": "python",
   "nbconvert_exporter": "python",
   "pygments_lexer": "ipython3",
   "version": "3.10.9"
  },
  "orig_nbformat": 4
 },
 "nbformat": 4,
 "nbformat_minor": 2
}
